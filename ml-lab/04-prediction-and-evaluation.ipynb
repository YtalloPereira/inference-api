{
 "cells": [
  {
   "cell_type": "markdown",
   "metadata": {},
   "source": [
    "### Prediction and Evaluation of the trained model "
   ]
  },
  {
   "cell_type": "markdown",
   "metadata": {},
   "source": [
    "#### 01 - Import necessary and get last training job name"
   ]
  },
  {
   "cell_type": "code",
   "execution_count": 48,
   "metadata": {},
   "outputs": [],
   "source": [
    "import boto3\n",
    "import numpy as np\n",
    "import pandas as pd\n",
    "from env import (\n",
    "    AWS_PROFILE_NAME,\n",
    "    S3_BUCKET_NAME,\n",
    ")\n",
    "\n",
    "profile_name = AWS_PROFILE_NAME\n",
    "bucket = S3_BUCKET_NAME\n",
    "\n",
    "boto_session = boto3.Session(profile_name=profile_name)\n",
    "\n",
    "sagemaker_client = boto_session.client(\"sagemaker\")\n",
    "s3_client = boto_session.client(\"s3\")\n",
    "\n",
    "subfolder_model: str = \"models/hotel-reservations/xgboost\"\n",
    "subfolder_dataset: str = \"datasets/hotel-reservations\"\n",
    "\n",
    "response = sagemaker_client.list_training_jobs(\n",
    "    SortBy=\"CreationTime\", SortOrder=\"Descending\", MaxResults=1\n",
    ")\n",
    "\n",
    "last_training_job_name: str = response[\"TrainingJobSummaries\"][0][\"TrainingJobName\"]\n",
    "\n",
    "s3_model_data: str = f\"{subfolder_model}/{last_training_job_name}/output/model.tar.gz\"\n",
    "s3_test_data: str = f\"{subfolder_dataset}/test/hotel-reservations-test-data-xgboost\"\n",
    "\n",
    "zipped_model_folder: str = \"./download/model.tar.gz\"\n",
    "dataset_test_folder: str = \"./download/test-data-xgboost.csv\"\n",
    "xgboost_model_file: str = \"./model/xgboost-model\""
   ]
  },
  {
   "cell_type": "markdown",
   "metadata": {},
   "source": [
    "#### 02 - Download model and test data from s3, extract and read "
   ]
  },
  {
   "cell_type": "code",
   "execution_count": 49,
   "metadata": {},
   "outputs": [],
   "source": [
    "s3_client.download_file(bucket, s3_model_data, zipped_model_folder)\n",
    "s3_client.download_file(bucket, s3_test_data, dataset_test_folder)"
   ]
  },
  {
   "cell_type": "code",
   "execution_count": 50,
   "metadata": {},
   "outputs": [],
   "source": [
    "df_test = pd.read_csv(dataset_test_folder)"
   ]
  },
  {
   "cell_type": "code",
   "execution_count": 51,
   "metadata": {},
   "outputs": [],
   "source": [
    "X_test = np.array(df_test.iloc[:, 1 : df_test.shape[1]].values).astype(np.float32)\n",
    "y_test = np.array(df_test.iloc[:, 0].values).astype(np.float32)"
   ]
  },
  {
   "cell_type": "code",
   "execution_count": 52,
   "metadata": {},
   "outputs": [
    {
     "name": "stdout",
     "output_type": "stream",
     "text": [
      "Files in the tar archive: ['xgboost-model']\n",
      "File header: b'binf'\n"
     ]
    }
   ],
   "source": [
    "import os\n",
    "import tarfile\n",
    "\n",
    "with tarfile.open(zipped_model_folder) as tar:\n",
    "    tar_list = tar.getnames()\n",
    "    print(\"Files in the tar archive:\", tar_list)\n",
    "\n",
    "    tar.extractall(\"./model\")\n",
    "\n",
    "\n",
    "if os.path.exists(xgboost_model_file):\n",
    "    with open(xgboost_model_file, \"rb\") as f:\n",
    "        file_header = f.read(4)\n",
    "        print(\"File header:\", file_header)"
   ]
  },
  {
   "cell_type": "markdown",
   "metadata": {},
   "source": [
    "#### 03 - Execute model predictions"
   ]
  },
  {
   "cell_type": "code",
   "execution_count": 53,
   "metadata": {},
   "outputs": [],
   "source": [
    "import xgboost as xgb\n",
    "\n",
    "model = xgb.Booster()\n",
    "model.load_model(xgboost_model_file)\n",
    "\n",
    "dtest = xgb.DMatrix(X_test)"
   ]
  },
  {
   "cell_type": "code",
   "execution_count": 54,
   "metadata": {},
   "outputs": [
    {
     "data": {
      "text/plain": [
       "array([1., 0., 1., ..., 1., 1., 2.], dtype=float32)"
      ]
     },
     "execution_count": 54,
     "metadata": {},
     "output_type": "execute_result"
    }
   ],
   "source": [
    "predictions = model.predict(dtest)\n",
    "predictions"
   ]
  },
  {
   "cell_type": "markdown",
   "metadata": {},
   "source": [
    "#### 04 - Execute model evaluations"
   ]
  },
  {
   "cell_type": "code",
   "execution_count": 55,
   "metadata": {},
   "outputs": [
    {
     "name": "stdout",
     "output_type": "stream",
     "text": [
      "              precision    recall  f1-score   support\n",
      "\n",
      "           1       0.88      0.83      0.86      3169\n",
      "           2       0.79      0.84      0.81      3787\n",
      "           3       0.89      0.88      0.88      3318\n",
      "\n",
      "    accuracy                           0.85     10274\n",
      "   macro avg       0.85      0.85      0.85     10274\n",
      "weighted avg       0.85      0.85      0.85     10274\n",
      "\n",
      "Accuracy:  0.8493284017909286\n"
     ]
    },
    {
     "data": {
      "image/png": "[encoded data removed]",
      "text/plain": [
       "<Figure size 700x400 with 2 Axes>"
      ]
     },
     "metadata": {},
     "output_type": "display_data"
    }
   ],
   "source": [
    "from sklearn.metrics import classification_report, accuracy_score, confusion_matrix\n",
    "import matplotlib.pyplot as plt\n",
    "import seaborn as sns\n",
    "\n",
    "print(\n",
    "    classification_report(\n",
    "        np.array(y_test + 1).astype(int), np.array(predictions + 1).astype(int)\n",
    "    )\n",
    ")\n",
    "\n",
    "print(\"Accuracy: \", accuracy_score(y_test, predictions))\n",
    "\n",
    "conf_matrix = confusion_matrix(y_test, predictions)\n",
    "\n",
    "plt.figure(figsize=(7, 4))\n",
    "sns.heatmap(\n",
    "    conf_matrix,\n",
    "    annot=True,\n",
    "    fmt=\"d\",\n",
    "    cmap=\"Blues\",\n",
    "    xticklabels=[1, 2, 3],\n",
    "    yticklabels=[1, 2, 3],\n",
    ")\n",
    "plt.xlabel(\"Predicted Label\")\n",
    "plt.ylabel(\"True Label\")\n",
    "plt.title(\"Confusion Matrix\")\n",
    "plt.show()"
   ]
  },
  {
   "cell_type": "markdown",
   "metadata": {},
   "source": [
    "#### 05 - Delete all after predictions and evalutions"
   ]
  },
  {
   "cell_type": "code",
   "execution_count": 56,
   "metadata": {},
   "outputs": [],
   "source": [
    "import os\n",
    "\n",
    "try:\n",
    "    os.remove(dataset_test_folder)\n",
    "    os.remove(zipped_model_folder)\n",
    "    os.remove(xgboost_model_file)\n",
    "except Exception as err:\n",
    "    pass"
   ]
  }
 ],
 "metadata": {
  "kernelspec": {
   "display_name": ".venv",
   "language": "python",
   "name": "python3"
  },
  "language_info": {
   "codemirror_mode": {
    "name": "ipython",
    "version": 3
   },
   "file_extension": ".py",
   "mimetype": "text/x-python",
   "name": "python",
   "nbconvert_exporter": "python",
   "pygments_lexer": "ipython3",
   "version": "3.11.9"
  }
 },
 "nbformat": 4,
 "nbformat_minor": 2
}
