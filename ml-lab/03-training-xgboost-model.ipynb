{
 "cells": [
  {
   "cell_type": "markdown",
   "metadata": {},
   "source": [
    "### Training Model with SageMaker"
   ]
  },
  {
   "cell_type": "markdown",
   "metadata": {},
   "source": [
    "#### 01 - Import processed dataset from RDS and Configure SageMaker"
   ]
  },
  {
   "cell_type": "code",
   "execution_count": 1,
   "metadata": {},
   "outputs": [
    {
     "name": "stdout",
     "output_type": "stream",
     "text": [
      "sagemaker.config INFO - Not applying SDK defaults from location: C:\\ProgramData\\sagemaker\\sagemaker\\config.yaml\n",
      "sagemaker.config INFO - Not applying SDK defaults from location: C:\\Users\\richa\\AppData\\Local\\sagemaker\\sagemaker\\config.yaml\n",
      "RDS Instance founded\n"
     ]
    }
   ],
   "source": [
    "import os\n",
    "import boto3\n",
    "import numpy as np\n",
    "import pandas as pd\n",
    "from sagemaker.session import Session\n",
    "from sagemaker.s3 import S3Uploader\n",
    "from rds import create_rds_engine, get_rds_instance\n",
    "from env import (\n",
    "    AWS_PROFILE_NAME,\n",
    "    RDS_DB_NAME,\n",
    "    RDS_INSTANCE_NAME,\n",
    "    RDS_PASSWORD,\n",
    "    RDS_USER,\n",
    "    DEFAULT_RDS_DB_TABLE,\n",
    "    S3_BUCKET_NAME,\n",
    "    IAM_ROLE_NAME,\n",
    ")\n",
    "\n",
    "profile_name = AWS_PROFILE_NAME\n",
    "master_username = RDS_USER\n",
    "master_password = RDS_PASSWORD\n",
    "db_name = RDS_DB_NAME\n",
    "db_instance_identifier = RDS_INSTANCE_NAME\n",
    "default_table = DEFAULT_RDS_DB_TABLE\n",
    "bucket = S3_BUCKET_NAME\n",
    "role_name = IAM_ROLE_NAME\n",
    "\n",
    "boto_session = boto3.Session(profile_name=profile_name)\n",
    "sagemaker_session = Session(boto_session)\n",
    "\n",
    "rds_client = boto_session.client(\"rds\")\n",
    "iam_client = boto_session.client(\"iam\")\n",
    "s3_client = boto_session.client(\"s3\")\n",
    "\n",
    "subfolder_model: str = \"models/hotel-reservations/xgboost\"\n",
    "subfolder_dataset: str = \"datasets/hotel-reservations\"\n",
    "\n",
    "key_train: str = \"hotel-reservations-train-data-xgboost\"\n",
    "key_test: str = \"hotel-reservations-test-data-xgboost\"\n",
    "\n",
    "s3_train_data: str = f\"s3://{bucket}/{subfolder_dataset}/train/{key_train}\"\n",
    "s3_test_data: str = f\"s3://{bucket}/{subfolder_dataset}/test/{key_test}\"\n",
    "\n",
    "s3_output_location: str = f\"s3://{bucket}/{subfolder_model}\"\n",
    "\n",
    "endpoint = get_rds_instance(rds_client, db_instance_identifier)\n",
    "engine = create_rds_engine(master_username, master_password, endpoint, db_name)\n",
    "\n",
    "query = f\"SELECT * FROM `{default_table}-processed`\"\n",
    "\n",
    "df = pd.read_sql(query, con=engine)"
   ]
  },
  {
   "cell_type": "markdown",
   "metadata": {},
   "source": [
    "#### 02 - Reorder columns to bring label_avg_price_room to first position"
   ]
  },
  {
   "cell_type": "code",
   "execution_count": 2,
   "metadata": {},
   "outputs": [],
   "source": [
    "df = df.sort_index(axis=1)\n",
    "\n",
    "reorder_columns = []\n",
    "\n",
    "reorder_columns.append(\"label_avg_price_per_room\")\n",
    "\n",
    "for i in df.columns:\n",
    "    if i != \"label_avg_price_per_room\":\n",
    "        reorder_columns.append(i)\n",
    "\n",
    "df = df[reorder_columns]\n",
    "\n",
    "df[\"label_avg_price_per_room\"] = df[\"label_avg_price_per_room\"] - 1"
   ]
  },
  {
   "cell_type": "markdown",
   "metadata": {},
   "source": [
    "#### 03 - Separate dataset for train and test"
   ]
  },
  {
   "cell_type": "code",
   "execution_count": 3,
   "metadata": {},
   "outputs": [],
   "source": [
    "df_train = df.iloc[0:26000, :]\n",
    "df_test = df.iloc[26000:, :]"
   ]
  },
  {
   "cell_type": "code",
   "execution_count": 4,
   "metadata": {},
   "outputs": [],
   "source": [
    "X_test = np.array(df_test.iloc[:, 1:df_test.shape[1]].values).astype(np.float32)\n",
    "y_test = np.array(df_test.iloc[:, 0].values).astype(np.float32)"
   ]
  },
  {
   "cell_type": "markdown",
   "metadata": {},
   "source": [
    "#### 04 - Create s3 bucket if not exists "
   ]
  },
  {
   "cell_type": "code",
   "execution_count": 23,
   "metadata": {},
   "outputs": [
    {
     "name": "stdout",
     "output_type": "stream",
     "text": [
      "S3 Bucket founded\n"
     ]
    }
   ],
   "source": [
    "from s3 import create_s3_bucket_if_not_exists\n",
    "\n",
    "create_s3_bucket_if_not_exists(s3_client, bucket)"
   ]
  },
  {
   "cell_type": "markdown",
   "metadata": {},
   "source": [
    "#### 05 - Save train and test dataset as a csv, open and upload it from S3 Bucket as bytes and delete it after "
   ]
  },
  {
   "cell_type": "code",
   "execution_count": 8,
   "metadata": {},
   "outputs": [],
   "source": [
    "df_train.to_csv(\"train.csv\", header=False, index=False)\n",
    "df_test.to_csv(\"test.csv\", header=False, index=False)"
   ]
  },
  {
   "cell_type": "code",
   "execution_count": 25,
   "metadata": {},
   "outputs": [],
   "source": [
    "with open(\"train.csv\", \"rb\") as data:\n",
    "    try:\n",
    "        S3Uploader.upload_bytes(\n",
    "            b=data.read(),\n",
    "            s3_uri=s3_train_data,\n",
    "            sagemaker_session=sagemaker_session,\n",
    "        )\n",
    "    except Exception as err:\n",
    "        print(err)\n",
    "\n",
    "with open(\"test.csv\", \"rb\") as data:\n",
    "    try:\n",
    "        S3Uploader.upload_bytes(\n",
    "            b=data.read(),\n",
    "            s3_uri=s3_test_data,\n",
    "            sagemaker_session=sagemaker_session,\n",
    "        )\n",
    "    except Exception as err:\n",
    "        print(err)"
   ]
  },
  {
   "cell_type": "code",
   "execution_count": 9,
   "metadata": {},
   "outputs": [],
   "source": [
    "os.remove(\"train.csv\")\n",
    "os.remove(\"test.csv\")"
   ]
  },
  {
   "cell_type": "markdown",
   "metadata": {},
   "source": [
    "#### 07 - Create, attach and get role with s3 and sagemaker full access"
   ]
  },
  {
   "cell_type": "code",
   "execution_count": 27,
   "metadata": {},
   "outputs": [
    {
     "name": "stdout",
     "output_type": "stream",
     "text": [
      "IAM Role already exists\n",
      "IAM Role attached with sagemaker and s3 full access\n",
      "IAM Role founded\n"
     ]
    }
   ],
   "source": [
    "from iam import create_iam_role, attach_iam_role, get_iam_role\n",
    "\n",
    "create_iam_role(iam_client, role_name)\n",
    "attach_iam_role(iam_client, role_name)\n",
    "\n",
    "role = get_iam_role(iam_client, role_name)"
   ]
  },
  {
   "cell_type": "markdown",
   "metadata": {},
   "source": [
    "#### 08 - Set SageMaker XGBoost Container"
   ]
  },
  {
   "cell_type": "code",
   "execution_count": 28,
   "metadata": {},
   "outputs": [
    {
     "name": "stderr",
     "output_type": "stream",
     "text": [
      "INFO:sagemaker.image_uris:Ignoring unnecessary instance type: None.\n"
     ]
    }
   ],
   "source": [
    "import sagemaker.image_uris\n",
    "\n",
    "container = sagemaker.image_uris.retrieve(\n",
    "    framework=\"xgboost\", region=boto_session.region_name, version=\"1.7-1\"\n",
    ")"
   ]
  },
  {
   "cell_type": "markdown",
   "metadata": {},
   "source": [
    "#### 09 - Set SageMaker XGBoost Estimator"
   ]
  },
  {
   "cell_type": "code",
   "execution_count": 29,
   "metadata": {},
   "outputs": [],
   "source": [
    "import sagemaker.estimator\n",
    "\n",
    "xgboost = sagemaker.estimator.Estimator(\n",
    "    image_uri=container,\n",
    "    role=role,\n",
    "    instance_count=1,\n",
    "    instance_type=\"ml.m5.large\",\n",
    "    output_path=s3_output_location,\n",
    "    sagemaker_session=sagemaker_session,\n",
    "    use_spot_instances=True,\n",
    "    max_run=3600,\n",
    "    max_wait=3600,\n",
    ")\n",
    "\n",
    "xgboost.set_hyperparameters(\n",
    "    num_class=3,\n",
    "    num_round=200,\n",
    "    objective=\"multi:softmax\",\n",
    "    eval_metric=\"mlogloss\",\n",
    ")\n",
    "\n",
    "train_input = sagemaker.inputs.TrainingInput(\n",
    "    s3_data=s3_train_data, content_type=\"csv\", s3_data_type=\"S3Prefix\"\n",
    ")\n",
    "validation_input = sagemaker.inputs.TrainingInput(\n",
    "    s3_data=s3_test_data, content_type=\"csv\", s3_data_type=\"S3Prefix\"\n",
    ")\n",
    "\n",
    "data_channels = {\"train\": train_input, \"validation\": validation_input}"
   ]
  },
  {
   "cell_type": "markdown",
   "metadata": {},
   "source": [
    "#### 10 - Execute SageMaker XGBoost training"
   ]
  },
  {
   "cell_type": "code",
   "execution_count": 30,
   "metadata": {},
   "outputs": [
    {
     "name": "stderr",
     "output_type": "stream",
     "text": [
      "INFO:sagemaker:Creating training-job with name: sagemaker-xgboost-2024-07-10-23-29-00-514\n"
     ]
    },
    {
     "name": "stdout",
     "output_type": "stream",
     "text": [
      "2024-07-10 23:27:21 Starting - Starting the training job...\n",
      "2024-07-10 23:27:36 Starting - Preparing the instances for training...\n",
      "2024-07-10 23:28:12 Downloading - Downloading input data...\n",
      "2024-07-10 23:28:58 Downloading - Downloading the training image......\n",
      "2024-07-10 23:30:04 Training - Training image download completed. Training in progress...[2024-07-10 23:30:08.777 ip-10-2-77-250.ec2.internal:7 INFO utils.py:28] RULE_JOB_STOP_SIGNAL_FILENAME: None\n",
      "[2024-07-10 23:30:08.799 ip-10-2-77-250.ec2.internal:7 INFO profiler_config_parser.py:111] User has disabled profiler.\n",
      "[2024-07-10:23:30:09:INFO] Imported framework sagemaker_xgboost_container.training\n",
      "[2024-07-10:23:30:09:INFO] Failed to parse hyperparameter eval_metric value mlogloss to Json.\n",
      "Returning the value itself\n",
      "[2024-07-10:23:30:09:INFO] Failed to parse hyperparameter objective value multi:softmax to Json.\n",
      "Returning the value itself\n",
      "[2024-07-10:23:30:09:INFO] No GPUs detected (normal if no gpus installed)\n",
      "[2024-07-10:23:30:09:INFO] Running XGBoost Sagemaker in algorithm mode\n",
      "[2024-07-10:23:30:09:INFO] Determined 0 GPU(s) available on the instance.\n",
      "[2024-07-10:23:30:09:INFO] Determined delimiter of CSV input is ','\n",
      "[2024-07-10:23:30:09:INFO] Determined delimiter of CSV input is ','\n",
      "[2024-07-10:23:30:09:INFO] File path /opt/ml/input/data/train of input files\n",
      "[2024-07-10:23:30:09:INFO] Making smlinks from folder /opt/ml/input/data/train to folder /tmp/sagemaker_xgboost_input_data\n",
      "[2024-07-10:23:30:09:INFO] creating symlink between Path /opt/ml/input/data/train/hotel-reservations-train-data-xgboost and destination /tmp/sagemaker_xgboost_input_data/hotel-reservations-train-data-xgboost-6267570538477606092\n",
      "[2024-07-10:23:30:09:INFO] files path: /tmp/sagemaker_xgboost_input_data\n",
      "[2024-07-10:23:30:09:INFO] Determined delimiter of CSV input is ','\n",
      "[2024-07-10:23:30:09:INFO] File path /opt/ml/input/data/validation of input files\n",
      "[2024-07-10:23:30:09:INFO] Making smlinks from folder /opt/ml/input/data/validation to folder /tmp/sagemaker_xgboost_input_data\n",
      "[2024-07-10:23:30:09:INFO] creating symlink between Path /opt/ml/input/data/validation/hotel-reservations-test-data-xgboost and destination /tmp/sagemaker_xgboost_input_data/hotel-reservations-test-data-xgboost4975908749155166195\n",
      "[2024-07-10:23:30:09:INFO] files path: /tmp/sagemaker_xgboost_input_data\n",
      "[2024-07-10:23:30:09:INFO] Determined delimiter of CSV input is ','\n",
      "[2024-07-10:23:30:09:INFO] Single node training.\n",
      "[2024-07-10:23:30:09:INFO] Train matrix has 26000 rows and 24 columns\n",
      "[2024-07-10:23:30:09:INFO] Validation matrix has 10275 rows\n",
      "[2024-07-10 23:30:09.290 ip-10-2-77-250.ec2.internal:7 INFO json_config.py:92] Creating hook from json_config at /opt/ml/input/config/debughookconfig.json.\n",
      "[2024-07-10 23:30:09.290 ip-10-2-77-250.ec2.internal:7 INFO hook.py:206] tensorboard_dir has not been set for the hook. SMDebug will not be exporting tensorboard summaries.\n",
      "[2024-07-10 23:30:09.291 ip-10-2-77-250.ec2.internal:7 INFO hook.py:259] Saving to /opt/ml/output/tensors\n",
      "[2024-07-10 23:30:09.291 ip-10-2-77-250.ec2.internal:7 INFO state_store.py:77] The checkpoint config file /opt/ml/input/config/checkpointconfig.json does not exist.\n",
      "[2024-07-10:23:30:09:INFO] Debug hook created from config\n",
      "[0]#011train-mlogloss:0.97248#011validation-mlogloss:0.97468\n",
      "[2024-07-10 23:30:09.413 ip-10-2-77-250.ec2.internal:7 INFO hook.py:427] Monitoring the collections: metrics\n",
      "[2024-07-10 23:30:09.416 ip-10-2-77-250.ec2.internal:7 INFO hook.py:491] Hook is writing from the hook with pid: 7\n",
      "[1]#011train-mlogloss:0.88465#011validation-mlogloss:0.88692\n",
      "[2]#011train-mlogloss:0.82764#011validation-mlogloss:0.83214\n",
      "[3]#011train-mlogloss:0.78073#011validation-mlogloss:0.78701\n",
      "[4]#011train-mlogloss:0.74711#011validation-mlogloss:0.75435\n",
      "[5]#011train-mlogloss:0.72426#011validation-mlogloss:0.73302\n",
      "[6]#011train-mlogloss:0.70514#011validation-mlogloss:0.71515\n",
      "[7]#011train-mlogloss:0.68986#011validation-mlogloss:0.70106\n",
      "[8]#011train-mlogloss:0.67578#011validation-mlogloss:0.68879\n",
      "[9]#011train-mlogloss:0.66031#011validation-mlogloss:0.67513\n",
      "[10]#011train-mlogloss:0.64828#011validation-mlogloss:0.66443\n",
      "[11]#011train-mlogloss:0.63432#011validation-mlogloss:0.65193\n",
      "[12]#011train-mlogloss:0.62080#011validation-mlogloss:0.63960\n",
      "[13]#011train-mlogloss:0.61305#011validation-mlogloss:0.63304\n",
      "[14]#011train-mlogloss:0.60321#011validation-mlogloss:0.62455\n",
      "[15]#011train-mlogloss:0.59166#011validation-mlogloss:0.61473\n",
      "[16]#011train-mlogloss:0.57975#011validation-mlogloss:0.60437\n",
      "[17]#011train-mlogloss:0.57058#011validation-mlogloss:0.59664\n",
      "[18]#011train-mlogloss:0.56092#011validation-mlogloss:0.58831\n",
      "[19]#011train-mlogloss:0.55554#011validation-mlogloss:0.58430\n",
      "[20]#011train-mlogloss:0.54793#011validation-mlogloss:0.57714\n",
      "[21]#011train-mlogloss:0.54506#011validation-mlogloss:0.57501\n",
      "[22]#011train-mlogloss:0.53850#011validation-mlogloss:0.56942\n",
      "[23]#011train-mlogloss:0.52993#011validation-mlogloss:0.56260\n",
      "[24]#011train-mlogloss:0.52415#011validation-mlogloss:0.55800\n",
      "[25]#011train-mlogloss:0.51955#011validation-mlogloss:0.55486\n",
      "[26]#011train-mlogloss:0.51556#011validation-mlogloss:0.55137\n",
      "[27]#011train-mlogloss:0.50997#011validation-mlogloss:0.54632\n",
      "[28]#011train-mlogloss:0.50571#011validation-mlogloss:0.54375\n",
      "[29]#011train-mlogloss:0.50122#011validation-mlogloss:0.54040\n",
      "[30]#011train-mlogloss:0.49873#011validation-mlogloss:0.53889\n",
      "[31]#011train-mlogloss:0.49457#011validation-mlogloss:0.53584\n",
      "[32]#011train-mlogloss:0.48667#011validation-mlogloss:0.52923\n",
      "[33]#011train-mlogloss:0.48165#011validation-mlogloss:0.52489\n",
      "[34]#011train-mlogloss:0.47847#011validation-mlogloss:0.52239\n",
      "[35]#011train-mlogloss:0.47446#011validation-mlogloss:0.51902\n",
      "[36]#011train-mlogloss:0.47121#011validation-mlogloss:0.51681\n",
      "[37]#011train-mlogloss:0.46918#011validation-mlogloss:0.51545\n",
      "[38]#011train-mlogloss:0.46754#011validation-mlogloss:0.51424\n",
      "[39]#011train-mlogloss:0.46394#011validation-mlogloss:0.51147\n",
      "[40]#011train-mlogloss:0.46195#011validation-mlogloss:0.51019\n",
      "[41]#011train-mlogloss:0.45740#011validation-mlogloss:0.50741\n",
      "[42]#011train-mlogloss:0.45404#011validation-mlogloss:0.50561\n",
      "[43]#011train-mlogloss:0.45010#011validation-mlogloss:0.50220\n",
      "[44]#011train-mlogloss:0.44701#011validation-mlogloss:0.50030\n",
      "[45]#011train-mlogloss:0.44507#011validation-mlogloss:0.49898\n",
      "[46]#011train-mlogloss:0.44185#011validation-mlogloss:0.49669\n",
      "[47]#011train-mlogloss:0.43974#011validation-mlogloss:0.49565\n",
      "[48]#011train-mlogloss:0.43807#011validation-mlogloss:0.49449\n",
      "[49]#011train-mlogloss:0.43549#011validation-mlogloss:0.49285\n",
      "[50]#011train-mlogloss:0.43296#011validation-mlogloss:0.49131\n",
      "[51]#011train-mlogloss:0.43130#011validation-mlogloss:0.49018\n",
      "[52]#011train-mlogloss:0.42897#011validation-mlogloss:0.48880\n",
      "[53]#011train-mlogloss:0.42771#011validation-mlogloss:0.48818\n",
      "[54]#011train-mlogloss:0.42509#011validation-mlogloss:0.48656\n",
      "[55]#011train-mlogloss:0.42248#011validation-mlogloss:0.48473\n",
      "[56]#011train-mlogloss:0.42065#011validation-mlogloss:0.48398\n",
      "[57]#011train-mlogloss:0.41775#011validation-mlogloss:0.48217\n",
      "[58]#011train-mlogloss:0.41487#011validation-mlogloss:0.48040\n",
      "[59]#011train-mlogloss:0.41222#011validation-mlogloss:0.47840\n",
      "[60]#011train-mlogloss:0.41016#011validation-mlogloss:0.47685\n",
      "[61]#011train-mlogloss:0.40847#011validation-mlogloss:0.47572\n",
      "[62]#011train-mlogloss:0.40487#011validation-mlogloss:0.47313\n",
      "[63]#011train-mlogloss:0.40316#011validation-mlogloss:0.47258\n",
      "[64]#011train-mlogloss:0.40244#011validation-mlogloss:0.47215\n",
      "[65]#011train-mlogloss:0.40012#011validation-mlogloss:0.47082\n",
      "[66]#011train-mlogloss:0.39853#011validation-mlogloss:0.46989\n",
      "[67]#011train-mlogloss:0.39603#011validation-mlogloss:0.46803\n",
      "[68]#011train-mlogloss:0.39483#011validation-mlogloss:0.46745\n",
      "[69]#011train-mlogloss:0.39332#011validation-mlogloss:0.46659\n",
      "[70]#011train-mlogloss:0.39196#011validation-mlogloss:0.46599\n",
      "[71]#011train-mlogloss:0.39041#011validation-mlogloss:0.46516\n",
      "[72]#011train-mlogloss:0.38821#011validation-mlogloss:0.46322\n",
      "[73]#011train-mlogloss:0.38572#011validation-mlogloss:0.46164\n",
      "[74]#011train-mlogloss:0.38289#011validation-mlogloss:0.45991\n",
      "[75]#011train-mlogloss:0.38129#011validation-mlogloss:0.45883\n",
      "[76]#011train-mlogloss:0.37976#011validation-mlogloss:0.45810\n",
      "[77]#011train-mlogloss:0.37819#011validation-mlogloss:0.45737\n",
      "[78]#011train-mlogloss:0.37689#011validation-mlogloss:0.45685\n",
      "[79]#011train-mlogloss:0.37559#011validation-mlogloss:0.45637\n",
      "[80]#011train-mlogloss:0.37380#011validation-mlogloss:0.45599\n",
      "[81]#011train-mlogloss:0.37121#011validation-mlogloss:0.45443\n",
      "[82]#011train-mlogloss:0.37071#011validation-mlogloss:0.45423\n",
      "[83]#011train-mlogloss:0.36871#011validation-mlogloss:0.45319\n",
      "[84]#011train-mlogloss:0.36658#011validation-mlogloss:0.45186\n",
      "[85]#011train-mlogloss:0.36491#011validation-mlogloss:0.45085\n",
      "[86]#011train-mlogloss:0.36300#011validation-mlogloss:0.44961\n",
      "[87]#011train-mlogloss:0.36185#011validation-mlogloss:0.44891\n",
      "[88]#011train-mlogloss:0.35950#011validation-mlogloss:0.44732\n",
      "[89]#011train-mlogloss:0.35850#011validation-mlogloss:0.44704\n",
      "[90]#011train-mlogloss:0.35644#011validation-mlogloss:0.44573\n",
      "[91]#011train-mlogloss:0.35493#011validation-mlogloss:0.44490\n",
      "[92]#011train-mlogloss:0.35354#011validation-mlogloss:0.44410\n",
      "[93]#011train-mlogloss:0.35232#011validation-mlogloss:0.44350\n",
      "[94]#011train-mlogloss:0.35191#011validation-mlogloss:0.44340\n",
      "[95]#011train-mlogloss:0.35096#011validation-mlogloss:0.44285\n",
      "[96]#011train-mlogloss:0.34903#011validation-mlogloss:0.44193\n",
      "[97]#011train-mlogloss:0.34662#011validation-mlogloss:0.44076\n",
      "[98]#011train-mlogloss:0.34475#011validation-mlogloss:0.43932\n",
      "[99]#011train-mlogloss:0.34371#011validation-mlogloss:0.43903\n",
      "[100]#011train-mlogloss:0.34259#011validation-mlogloss:0.43874\n",
      "[101]#011train-mlogloss:0.34089#011validation-mlogloss:0.43800\n",
      "[102]#011train-mlogloss:0.34017#011validation-mlogloss:0.43758\n",
      "[103]#011train-mlogloss:0.33866#011validation-mlogloss:0.43652\n",
      "[104]#011train-mlogloss:0.33728#011validation-mlogloss:0.43595\n",
      "[105]#011train-mlogloss:0.33567#011validation-mlogloss:0.43519\n",
      "[106]#011train-mlogloss:0.33378#011validation-mlogloss:0.43416\n",
      "[107]#011train-mlogloss:0.33228#011validation-mlogloss:0.43350\n",
      "[108]#011train-mlogloss:0.33136#011validation-mlogloss:0.43329\n",
      "[109]#011train-mlogloss:0.33042#011validation-mlogloss:0.43268\n",
      "[110]#011train-mlogloss:0.32969#011validation-mlogloss:0.43243\n",
      "[111]#011train-mlogloss:0.32895#011validation-mlogloss:0.43210\n",
      "[112]#011train-mlogloss:0.32758#011validation-mlogloss:0.43142\n",
      "[113]#011train-mlogloss:0.32669#011validation-mlogloss:0.43120\n",
      "[114]#011train-mlogloss:0.32613#011validation-mlogloss:0.43098\n",
      "[115]#011train-mlogloss:0.32473#011validation-mlogloss:0.43038\n",
      "[116]#011train-mlogloss:0.32380#011validation-mlogloss:0.42971\n",
      "[117]#011train-mlogloss:0.32270#011validation-mlogloss:0.42946\n",
      "[118]#011train-mlogloss:0.32144#011validation-mlogloss:0.42883\n",
      "[119]#011train-mlogloss:0.32034#011validation-mlogloss:0.42837\n",
      "[120]#011train-mlogloss:0.31940#011validation-mlogloss:0.42795\n",
      "[121]#011train-mlogloss:0.31866#011validation-mlogloss:0.42764\n",
      "[122]#011train-mlogloss:0.31683#011validation-mlogloss:0.42695\n",
      "[123]#011train-mlogloss:0.31590#011validation-mlogloss:0.42628\n",
      "[124]#011train-mlogloss:0.31488#011validation-mlogloss:0.42590\n",
      "[125]#011train-mlogloss:0.31380#011validation-mlogloss:0.42550\n",
      "[126]#011train-mlogloss:0.31293#011validation-mlogloss:0.42522\n",
      "[127]#011train-mlogloss:0.31211#011validation-mlogloss:0.42502\n",
      "[128]#011train-mlogloss:0.31118#011validation-mlogloss:0.42458\n",
      "[129]#011train-mlogloss:0.31026#011validation-mlogloss:0.42439\n",
      "[130]#011train-mlogloss:0.30959#011validation-mlogloss:0.42435\n",
      "[131]#011train-mlogloss:0.30863#011validation-mlogloss:0.42426\n",
      "[132]#011train-mlogloss:0.30739#011validation-mlogloss:0.42381\n",
      "[133]#011train-mlogloss:0.30648#011validation-mlogloss:0.42345\n",
      "[134]#011train-mlogloss:0.30546#011validation-mlogloss:0.42299\n",
      "[135]#011train-mlogloss:0.30452#011validation-mlogloss:0.42256\n",
      "[136]#011train-mlogloss:0.30396#011validation-mlogloss:0.42247\n",
      "[137]#011train-mlogloss:0.30343#011validation-mlogloss:0.42222\n",
      "[138]#011train-mlogloss:0.30275#011validation-mlogloss:0.42207\n",
      "[139]#011train-mlogloss:0.30184#011validation-mlogloss:0.42176\n",
      "[140]#011train-mlogloss:0.30107#011validation-mlogloss:0.42128\n",
      "[141]#011train-mlogloss:0.29997#011validation-mlogloss:0.42103\n",
      "[142]#011train-mlogloss:0.29953#011validation-mlogloss:0.42091\n",
      "[143]#011train-mlogloss:0.29883#011validation-mlogloss:0.42079\n",
      "[144]#011train-mlogloss:0.29824#011validation-mlogloss:0.42062\n",
      "[145]#011train-mlogloss:0.29732#011validation-mlogloss:0.41995\n",
      "[146]#011train-mlogloss:0.29684#011validation-mlogloss:0.41992\n",
      "[147]#011train-mlogloss:0.29573#011validation-mlogloss:0.41973\n",
      "[148]#011train-mlogloss:0.29482#011validation-mlogloss:0.41923\n",
      "[149]#011train-mlogloss:0.29410#011validation-mlogloss:0.41891\n",
      "[150]#011train-mlogloss:0.29267#011validation-mlogloss:0.41821\n",
      "[151]#011train-mlogloss:0.29110#011validation-mlogloss:0.41740\n",
      "[152]#011train-mlogloss:0.28988#011validation-mlogloss:0.41690\n",
      "[153]#011train-mlogloss:0.28917#011validation-mlogloss:0.41683\n",
      "[154]#011train-mlogloss:0.28822#011validation-mlogloss:0.41675\n",
      "[155]#011train-mlogloss:0.28709#011validation-mlogloss:0.41643\n",
      "[156]#011train-mlogloss:0.28574#011validation-mlogloss:0.41588\n",
      "[157]#011train-mlogloss:0.28485#011validation-mlogloss:0.41582\n",
      "[158]#011train-mlogloss:0.28440#011validation-mlogloss:0.41590\n",
      "[159]#011train-mlogloss:0.28376#011validation-mlogloss:0.41564\n",
      "[160]#011train-mlogloss:0.28307#011validation-mlogloss:0.41556\n",
      "[161]#011train-mlogloss:0.28217#011validation-mlogloss:0.41543\n",
      "[162]#011train-mlogloss:0.28187#011validation-mlogloss:0.41539\n",
      "[163]#011train-mlogloss:0.28122#011validation-mlogloss:0.41512\n",
      "[164]#011train-mlogloss:0.28013#011validation-mlogloss:0.41463\n",
      "[165]#011train-mlogloss:0.27937#011validation-mlogloss:0.41418\n",
      "\n",
      "2024-07-10 23:30:29 Uploading - Uploading generated training model[166]#011train-mlogloss:0.27848#011validation-mlogloss:0.41390\n",
      "[167]#011train-mlogloss:0.27818#011validation-mlogloss:0.41406\n",
      "[168]#011train-mlogloss:0.27695#011validation-mlogloss:0.41355\n",
      "[169]#011train-mlogloss:0.27620#011validation-mlogloss:0.41348\n",
      "[170]#011train-mlogloss:0.27554#011validation-mlogloss:0.41327\n",
      "[171]#011train-mlogloss:0.27494#011validation-mlogloss:0.41297\n",
      "[172]#011train-mlogloss:0.27385#011validation-mlogloss:0.41242\n",
      "[173]#011train-mlogloss:0.27320#011validation-mlogloss:0.41249\n",
      "[174]#011train-mlogloss:0.27221#011validation-mlogloss:0.41212\n",
      "[175]#011train-mlogloss:0.27141#011validation-mlogloss:0.41197\n",
      "[176]#011train-mlogloss:0.27094#011validation-mlogloss:0.41186\n",
      "[177]#011train-mlogloss:0.27041#011validation-mlogloss:0.41192\n",
      "[178]#011train-mlogloss:0.27016#011validation-mlogloss:0.41190\n",
      "[179]#011train-mlogloss:0.26946#011validation-mlogloss:0.41171\n",
      "[180]#011train-mlogloss:0.26886#011validation-mlogloss:0.41150\n",
      "[181]#011train-mlogloss:0.26845#011validation-mlogloss:0.41143\n",
      "[182]#011train-mlogloss:0.26787#011validation-mlogloss:0.41128\n",
      "[183]#011train-mlogloss:0.26754#011validation-mlogloss:0.41120\n",
      "[184]#011train-mlogloss:0.26706#011validation-mlogloss:0.41109\n",
      "[185]#011train-mlogloss:0.26631#011validation-mlogloss:0.41085\n",
      "[186]#011train-mlogloss:0.26561#011validation-mlogloss:0.41082\n",
      "[187]#011train-mlogloss:0.26456#011validation-mlogloss:0.41023\n",
      "[188]#011train-mlogloss:0.26374#011validation-mlogloss:0.41007\n",
      "[189]#011train-mlogloss:0.26347#011validation-mlogloss:0.41006\n",
      "[190]#011train-mlogloss:0.26273#011validation-mlogloss:0.40975\n",
      "[191]#011train-mlogloss:0.26201#011validation-mlogloss:0.40955\n",
      "[192]#011train-mlogloss:0.26131#011validation-mlogloss:0.40953\n",
      "[193]#011train-mlogloss:0.26089#011validation-mlogloss:0.40949\n",
      "[194]#011train-mlogloss:0.26054#011validation-mlogloss:0.40951\n",
      "[195]#011train-mlogloss:0.25990#011validation-mlogloss:0.40918\n",
      "[196]#011train-mlogloss:0.25908#011validation-mlogloss:0.40911\n",
      "[197]#011train-mlogloss:0.25805#011validation-mlogloss:0.40865\n",
      "[198]#011train-mlogloss:0.25745#011validation-mlogloss:0.40846\n",
      "[199]#011train-mlogloss:0.25694#011validation-mlogloss:0.40843\n",
      "\n",
      "2024-07-10 23:30:47 Completed - Training job completed\n",
      "Training seconds: 155\n",
      "Billable seconds: 76\n",
      "Managed Spot Training savings: 51.0%\n"
     ]
    }
   ],
   "source": [
    "output = xgboost.fit(inputs=data_channels)"
   ]
  }
 ],
 "metadata": {
  "kernelspec": {
   "display_name": ".venv",
   "language": "python",
   "name": "python3"
  },
  "language_info": {
   "codemirror_mode": {
    "name": "ipython",
    "version": 3
   },
   "file_extension": ".py",
   "mimetype": "text/x-python",
   "name": "python",
   "nbconvert_exporter": "python",
   "pygments_lexer": "ipython3",
   "version": "3.11.9"
  }
 },
 "nbformat": 4,
 "nbformat_minor": 2
}
