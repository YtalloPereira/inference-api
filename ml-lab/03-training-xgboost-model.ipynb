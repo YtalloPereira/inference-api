{
 "cells": [
  {
   "cell_type": "markdown",
   "metadata": {},
   "source": [
    "### Training Model with SageMaker"
   ]
  },
  {
   "cell_type": "markdown",
   "metadata": {},
   "source": [
    "#### 01 - Import processed dataset from RDS and Configure SageMaker"
   ]
  },
  {
   "cell_type": "code",
   "execution_count": 1,
   "metadata": {},
   "outputs": [
    {
     "name": "stdout",
     "output_type": "stream",
     "text": [
      "sagemaker.config INFO - Not applying SDK defaults from location: C:\\ProgramData\\sagemaker\\sagemaker\\config.yaml\n",
      "sagemaker.config INFO - Not applying SDK defaults from location: C:\\Users\\richa\\AppData\\Local\\sagemaker\\sagemaker\\config.yaml\n",
      "RDS Instance founded\n"
     ]
    }
   ],
   "source": [
    "import io\n",
    "import boto3\n",
    "import numpy as np\n",
    "import pandas as pd\n",
    "from sagemaker.session import Session\n",
    "from sagemaker.s3 import S3Uploader\n",
    "from rds import create_rds_engine, get_rds_instance\n",
    "from env import (\n",
    "    AWS_PROFILE_NAME,\n",
    "    RDS_DB_NAME,\n",
    "    RDS_INSTANCE_NAME,\n",
    "    RDS_PASSWORD,\n",
    "    RDS_USER,\n",
    "    DEFAULT_RDS_DB_TABLE,\n",
    "    S3_BUCKET_NAME,\n",
    "    IAM_ROLE_NAME,\n",
    ")\n",
    "\n",
    "profile_name = AWS_PROFILE_NAME\n",
    "master_username = RDS_USER\n",
    "master_password = RDS_PASSWORD\n",
    "db_name = RDS_DB_NAME\n",
    "db_instance_identifier = RDS_INSTANCE_NAME\n",
    "default_table = DEFAULT_RDS_DB_TABLE\n",
    "bucket = S3_BUCKET_NAME\n",
    "role_name = IAM_ROLE_NAME\n",
    "\n",
    "boto_session = boto3.Session(profile_name=profile_name)\n",
    "sagemaker_session = Session(boto_session)\n",
    "\n",
    "rds_client = boto_session.client(\"rds\")\n",
    "iam_client = boto_session.client(\"iam\")\n",
    "s3_client = boto_session.client(\"s3\")\n",
    "\n",
    "subfolder_model: str = \"models/hotel-reservations/xgboost\"\n",
    "subfolder_dataset: str = \"datasets/hotel-reservations\"\n",
    "\n",
    "key_train: str = \"hotel-reservations-train-data-xgboost\"\n",
    "key_test: str = \"hotel-reservations-test-data-xgboost\"\n",
    "\n",
    "s3_train_data: str = f\"s3://{bucket}/{subfolder_dataset}/train/{key_train}\"\n",
    "s3_test_data: str = f\"s3://{bucket}/{subfolder_dataset}/test/{key_test}\"\n",
    "\n",
    "s3_output_location: str = f\"s3://{bucket}/{subfolder_model}\"\n",
    "\n",
    "endpoint = get_rds_instance(rds_client, db_instance_identifier)\n",
    "engine = create_rds_engine(master_username, master_password, endpoint, db_name)\n",
    "\n",
    "query = f\"SELECT * FROM `{default_table}-processed`\"\n",
    "\n",
    "df = pd.read_sql(query, con=engine)"
   ]
  },
  {
   "cell_type": "markdown",
   "metadata": {},
   "source": [
    "#### 02 - Reorder columns to bring label_avg_price_room to first position"
   ]
  },
  {
   "cell_type": "code",
   "execution_count": 2,
   "metadata": {},
   "outputs": [],
   "source": [
    "reorder_columns = []\n",
    "\n",
    "reorder_columns.append(\"label_avg_price_per_room\")\n",
    "\n",
    "for i in df.columns:\n",
    "    if i != \"label_avg_price_per_room\":\n",
    "        reorder_columns.append(i)\n",
    "\n",
    "df = df[reorder_columns]\n",
    "\n",
    "df[\"label_avg_price_per_room\"] = df[\"label_avg_price_per_room\"] - 1"
   ]
  },
  {
   "cell_type": "markdown",
   "metadata": {},
   "source": [
    "#### 03 - Separate dataset for train and test"
   ]
  },
  {
   "cell_type": "code",
   "execution_count": 3,
   "metadata": {},
   "outputs": [],
   "source": [
    "df_train = df.iloc[0:26000, :]\n",
    "df_test = df.iloc[26000:, :]"
   ]
  },
  {
   "cell_type": "code",
   "execution_count": 4,
   "metadata": {},
   "outputs": [],
   "source": [
    "X_test = np.array(df_test.iloc[:, 1:df_test.shape[1]].values).astype(np.float32)\n",
    "y_test = np.array(df_test.iloc[:, 0].values).astype(np.float32)"
   ]
  },
  {
   "cell_type": "markdown",
   "metadata": {},
   "source": [
    "#### 04 - Create s3 bucket if not exists "
   ]
  },
  {
   "cell_type": "code",
   "execution_count": 5,
   "metadata": {},
   "outputs": [
    {
     "name": "stdout",
     "output_type": "stream",
     "text": [
      "S3 Bucket founded\n"
     ]
    }
   ],
   "source": [
    "from s3 import create_s3_bucket_if_not_exists\n",
    "\n",
    "create_s3_bucket_if_not_exists(s3_client, bucket)"
   ]
  },
  {
   "cell_type": "markdown",
   "metadata": {},
   "source": [
    "#### 05 - Save train and test dataset as a buffer"
   ]
  },
  {
   "cell_type": "code",
   "execution_count": 6,
   "metadata": {},
   "outputs": [],
   "source": [
    "buffer_train = io.BytesIO()\n",
    "buffer_test = io.BytesIO()\n",
    "\n",
    "df_train.to_csv(buffer_train, header=False, index=False)\n",
    "df_test.to_csv(buffer_test, header=False, index=False)"
   ]
  },
  {
   "cell_type": "markdown",
   "metadata": {},
   "source": [
    "#### 06 -  Upload buffer with train and test dataset from S3 Bucket as bytes"
   ]
  },
  {
   "cell_type": "code",
   "execution_count": 7,
   "metadata": {},
   "outputs": [],
   "source": [
    "try:\n",
    "    S3Uploader.upload_bytes(\n",
    "        b=buffer_train.getvalue(),\n",
    "        s3_uri=s3_train_data,\n",
    "        sagemaker_session=sagemaker_session,\n",
    "    )\n",
    "\n",
    "    S3Uploader.upload_bytes(\n",
    "        b=buffer_test.getvalue(),\n",
    "        s3_uri=s3_test_data,\n",
    "        sagemaker_session=sagemaker_session,\n",
    "    )\n",
    "except Exception as err:\n",
    "    print(err)"
   ]
  },
  {
   "cell_type": "markdown",
   "metadata": {},
   "source": [
    "#### 07 - Create, attach and get role with s3 and sagemaker full access"
   ]
  },
  {
   "cell_type": "code",
   "execution_count": 8,
   "metadata": {},
   "outputs": [
    {
     "name": "stdout",
     "output_type": "stream",
     "text": [
      "IAM Role already exists\n",
      "IAM Role attached with sagemaker and s3 full access\n",
      "IAM Role founded\n"
     ]
    }
   ],
   "source": [
    "from iam import create_iam_role, attach_iam_role, get_iam_role\n",
    "\n",
    "create_iam_role(iam_client, role_name)\n",
    "attach_iam_role(iam_client, role_name)\n",
    "\n",
    "role = get_iam_role(iam_client, role_name)"
   ]
  },
  {
   "cell_type": "markdown",
   "metadata": {},
   "source": [
    "#### 08 - Set SageMaker XGBoost Container"
   ]
  },
  {
   "cell_type": "code",
   "execution_count": 9,
   "metadata": {},
   "outputs": [],
   "source": [
    "import sagemaker.image_uris\n",
    "\n",
    "container = sagemaker.image_uris.retrieve(\n",
    "    framework=\"xgboost\", region=boto_session.region_name, version=\"1.7-1\"\n",
    ")"
   ]
  },
  {
   "cell_type": "markdown",
   "metadata": {},
   "source": [
    "#### 09 - Set SageMaker XGBoost Estimator"
   ]
  },
  {
   "cell_type": "code",
   "execution_count": 10,
   "metadata": {},
   "outputs": [],
   "source": [
    "import sagemaker.estimator\n",
    "\n",
    "xgboost = sagemaker.estimator.Estimator(\n",
    "    image_uri=container,\n",
    "    role=role,\n",
    "    instance_count=1,\n",
    "    instance_type=\"ml.m5.large\",\n",
    "    output_path=s3_output_location,\n",
    "    sagemaker_session=sagemaker_session,\n",
    "    use_spot_instances=True,\n",
    "    max_run=3600,\n",
    "    max_wait=3600,\n",
    ")\n",
    "\n",
    "xgboost.set_hyperparameters(\n",
    "    num_class=3,\n",
    "    num_round=200,\n",
    "    objective=\"multi:softmax\",\n",
    "    eval_metric=\"mlogloss\",\n",
    ")\n",
    "\n",
    "train_input = sagemaker.inputs.TrainingInput(\n",
    "    s3_data=s3_train_data, content_type=\"csv\", s3_data_type=\"S3Prefix\"\n",
    ")\n",
    "validation_input = sagemaker.inputs.TrainingInput(\n",
    "    s3_data=s3_test_data, content_type=\"csv\", s3_data_type=\"S3Prefix\"\n",
    ")\n",
    "\n",
    "data_channels = {\"train\": train_input, \"validation\": validation_input}"
   ]
  },
  {
   "cell_type": "markdown",
   "metadata": {},
   "source": [
    "#### 10 - Execute SageMaker XGBoost training"
   ]
  },
  {
   "cell_type": "code",
   "execution_count": 11,
   "metadata": {},
   "outputs": [
    {
     "name": "stderr",
     "output_type": "stream",
     "text": [
      "INFO:sagemaker:Creating training-job with name: sagemaker-xgboost-2024-07-10-16-50-36-700\n"
     ]
    },
    {
     "name": "stdout",
     "output_type": "stream",
     "text": [
      "2024-07-10 16:48:57 Starting - Starting the training job...\n",
      "2024-07-10 16:49:13 Starting - Preparing the instances for training...\n",
      "2024-07-10 16:49:40 Downloading - Downloading input data...\n",
      "2024-07-10 16:50:31 Downloading - Downloading the training image......\n",
      "2024-07-10 16:51:32 Training - Training image download completed. Training in progress...[2024-07-10 16:51:36.856 ip-10-2-99-153.ec2.internal:7 INFO utils.py:28] RULE_JOB_STOP_SIGNAL_FILENAME: None\n",
      "[2024-07-10 16:51:36.886 ip-10-2-99-153.ec2.internal:7 INFO profiler_config_parser.py:111] User has disabled profiler.\n",
      "[2024-07-10:16:51:37:INFO] Imported framework sagemaker_xgboost_container.training\n",
      "[2024-07-10:16:51:37:INFO] Failed to parse hyperparameter eval_metric value mlogloss to Json.\n",
      "Returning the value itself\n",
      "[2024-07-10:16:51:37:INFO] Failed to parse hyperparameter objective value multi:softmax to Json.\n",
      "Returning the value itself\n",
      "[2024-07-10:16:51:37:INFO] No GPUs detected (normal if no gpus installed)\n",
      "[2024-07-10:16:51:37:INFO] Running XGBoost Sagemaker in algorithm mode\n",
      "[2024-07-10:16:51:37:INFO] Determined 0 GPU(s) available on the instance.\n",
      "[2024-07-10:16:51:37:INFO] Determined delimiter of CSV input is ','\n",
      "[2024-07-10:16:51:37:INFO] Determined delimiter of CSV input is ','\n",
      "[2024-07-10:16:51:37:INFO] File path /opt/ml/input/data/train of input files\n",
      "[2024-07-10:16:51:37:INFO] Making smlinks from folder /opt/ml/input/data/train to folder /tmp/sagemaker_xgboost_input_data\n",
      "[2024-07-10:16:51:37:INFO] creating symlink between Path /opt/ml/input/data/train/hotel-reservations-train-data-xgboost and destination /tmp/sagemaker_xgboost_input_data/hotel-reservations-train-data-xgboost-8149452218671769533\n",
      "[2024-07-10:16:51:37:INFO] files path: /tmp/sagemaker_xgboost_input_data\n",
      "[2024-07-10:16:51:37:INFO] Determined delimiter of CSV input is ','\n",
      "[2024-07-10:16:51:37:INFO] File path /opt/ml/input/data/validation of input files\n",
      "[2024-07-10:16:51:37:INFO] Making smlinks from folder /opt/ml/input/data/validation to folder /tmp/sagemaker_xgboost_input_data\n",
      "[2024-07-10:16:51:37:INFO] creating symlink between Path /opt/ml/input/data/validation/hotel-reservations-test-data-xgboost and destination /tmp/sagemaker_xgboost_input_data/hotel-reservations-test-data-xgboost-2497206089195741432\n",
      "[2024-07-10:16:51:37:INFO] files path: /tmp/sagemaker_xgboost_input_data\n",
      "[2024-07-10:16:51:37:INFO] Determined delimiter of CSV input is ','\n",
      "[2024-07-10:16:51:37:INFO] Single node training.\n",
      "[2024-07-10:16:51:37:INFO] Train matrix has 26000 rows and 24 columns\n",
      "[2024-07-10:16:51:37:INFO] Validation matrix has 10275 rows\n",
      "[2024-07-10 16:51:37.404 ip-10-2-99-153.ec2.internal:7 INFO json_config.py:92] Creating hook from json_config at /opt/ml/input/config/debughookconfig.json.\n",
      "[2024-07-10 16:51:37.405 ip-10-2-99-153.ec2.internal:7 INFO hook.py:206] tensorboard_dir has not been set for the hook. SMDebug will not be exporting tensorboard summaries.\n",
      "[2024-07-10 16:51:37.406 ip-10-2-99-153.ec2.internal:7 INFO hook.py:259] Saving to /opt/ml/output/tensors\n",
      "[2024-07-10 16:51:37.406 ip-10-2-99-153.ec2.internal:7 INFO state_store.py:77] The checkpoint config file /opt/ml/input/config/checkpointconfig.json does not exist.\n",
      "[2024-07-10:16:51:37:INFO] Debug hook created from config\n",
      "[0]#011train-mlogloss:0.97248#011validation-mlogloss:0.97469\n",
      "[2024-07-10 16:51:37.548 ip-10-2-99-153.ec2.internal:7 INFO hook.py:427] Monitoring the collections: metrics\n",
      "[2024-07-10 16:51:37.554 ip-10-2-99-153.ec2.internal:7 INFO hook.py:491] Hook is writing from the hook with pid: 7\n",
      "[1]#011train-mlogloss:0.88465#011validation-mlogloss:0.88695\n",
      "[2]#011train-mlogloss:0.82764#011validation-mlogloss:0.83216\n",
      "[3]#011train-mlogloss:0.78073#011validation-mlogloss:0.78704\n",
      "[4]#011train-mlogloss:0.74711#011validation-mlogloss:0.75438\n",
      "[5]#011train-mlogloss:0.72426#011validation-mlogloss:0.73305\n",
      "[6]#011train-mlogloss:0.70514#011validation-mlogloss:0.71518\n",
      "[7]#011train-mlogloss:0.68986#011validation-mlogloss:0.70109\n",
      "[8]#011train-mlogloss:0.67578#011validation-mlogloss:0.68883\n",
      "[9]#011train-mlogloss:0.66031#011validation-mlogloss:0.67516\n",
      "[10]#011train-mlogloss:0.64828#011validation-mlogloss:0.66446\n",
      "[11]#011train-mlogloss:0.63432#011validation-mlogloss:0.65196\n",
      "[12]#011train-mlogloss:0.62080#011validation-mlogloss:0.63963\n",
      "[13]#011train-mlogloss:0.61304#011validation-mlogloss:0.63307\n",
      "[14]#011train-mlogloss:0.60321#011validation-mlogloss:0.62459\n",
      "[15]#011train-mlogloss:0.59166#011validation-mlogloss:0.61476\n",
      "[16]#011train-mlogloss:0.57975#011validation-mlogloss:0.60440\n",
      "[17]#011train-mlogloss:0.57058#011validation-mlogloss:0.59667\n",
      "[18]#011train-mlogloss:0.56092#011validation-mlogloss:0.58834\n",
      "[19]#011train-mlogloss:0.55554#011validation-mlogloss:0.58433\n",
      "[20]#011train-mlogloss:0.54792#011validation-mlogloss:0.57718\n",
      "[21]#011train-mlogloss:0.54506#011validation-mlogloss:0.57504\n",
      "[22]#011train-mlogloss:0.53850#011validation-mlogloss:0.56945\n",
      "[23]#011train-mlogloss:0.52993#011validation-mlogloss:0.56263\n",
      "[24]#011train-mlogloss:0.52415#011validation-mlogloss:0.55803\n",
      "[25]#011train-mlogloss:0.51955#011validation-mlogloss:0.55489\n",
      "[26]#011train-mlogloss:0.51555#011validation-mlogloss:0.55140\n",
      "[27]#011train-mlogloss:0.50997#011validation-mlogloss:0.54635\n",
      "[28]#011train-mlogloss:0.50571#011validation-mlogloss:0.54378\n",
      "[29]#011train-mlogloss:0.50122#011validation-mlogloss:0.54044\n",
      "[30]#011train-mlogloss:0.49873#011validation-mlogloss:0.53892\n",
      "[31]#011train-mlogloss:0.49457#011validation-mlogloss:0.53587\n",
      "[32]#011train-mlogloss:0.48667#011validation-mlogloss:0.52926\n",
      "[33]#011train-mlogloss:0.48165#011validation-mlogloss:0.52492\n",
      "[34]#011train-mlogloss:0.47847#011validation-mlogloss:0.52242\n",
      "[35]#011train-mlogloss:0.47446#011validation-mlogloss:0.51905\n",
      "[36]#011train-mlogloss:0.47121#011validation-mlogloss:0.51684\n",
      "[37]#011train-mlogloss:0.46918#011validation-mlogloss:0.51548\n",
      "[38]#011train-mlogloss:0.46754#011validation-mlogloss:0.51427\n",
      "[39]#011train-mlogloss:0.46394#011validation-mlogloss:0.51150\n",
      "[40]#011train-mlogloss:0.46195#011validation-mlogloss:0.51022\n",
      "[41]#011train-mlogloss:0.45740#011validation-mlogloss:0.50744\n",
      "[42]#011train-mlogloss:0.45404#011validation-mlogloss:0.50564\n",
      "[43]#011train-mlogloss:0.45009#011validation-mlogloss:0.50223\n",
      "[44]#011train-mlogloss:0.44701#011validation-mlogloss:0.50034\n",
      "[45]#011train-mlogloss:0.44507#011validation-mlogloss:0.49902\n",
      "[46]#011train-mlogloss:0.44185#011validation-mlogloss:0.49673\n",
      "[47]#011train-mlogloss:0.43974#011validation-mlogloss:0.49568\n",
      "[48]#011train-mlogloss:0.43807#011validation-mlogloss:0.49452\n",
      "[49]#011train-mlogloss:0.43549#011validation-mlogloss:0.49288\n",
      "[50]#011train-mlogloss:0.43296#011validation-mlogloss:0.49134\n",
      "[51]#011train-mlogloss:0.43129#011validation-mlogloss:0.49021\n",
      "[52]#011train-mlogloss:0.42897#011validation-mlogloss:0.48884\n",
      "[53]#011train-mlogloss:0.42771#011validation-mlogloss:0.48822\n",
      "[54]#011train-mlogloss:0.42509#011validation-mlogloss:0.48660\n",
      "[55]#011train-mlogloss:0.42248#011validation-mlogloss:0.48476\n",
      "[56]#011train-mlogloss:0.42065#011validation-mlogloss:0.48401\n",
      "[57]#011train-mlogloss:0.41775#011validation-mlogloss:0.48219\n",
      "[58]#011train-mlogloss:0.41487#011validation-mlogloss:0.48042\n",
      "[59]#011train-mlogloss:0.41222#011validation-mlogloss:0.47842\n",
      "[60]#011train-mlogloss:0.41016#011validation-mlogloss:0.47688\n",
      "[61]#011train-mlogloss:0.40847#011validation-mlogloss:0.47575\n",
      "[62]#011train-mlogloss:0.40487#011validation-mlogloss:0.47316\n",
      "[63]#011train-mlogloss:0.40316#011validation-mlogloss:0.47263\n",
      "[64]#011train-mlogloss:0.40244#011validation-mlogloss:0.47220\n",
      "[65]#011train-mlogloss:0.40012#011validation-mlogloss:0.47087\n",
      "[66]#011train-mlogloss:0.39853#011validation-mlogloss:0.46994\n",
      "[67]#011train-mlogloss:0.39603#011validation-mlogloss:0.46808\n",
      "[68]#011train-mlogloss:0.39483#011validation-mlogloss:0.46750\n",
      "[69]#011train-mlogloss:0.39334#011validation-mlogloss:0.46667\n",
      "[70]#011train-mlogloss:0.39197#011validation-mlogloss:0.46608\n",
      "[71]#011train-mlogloss:0.39043#011validation-mlogloss:0.46524\n",
      "[72]#011train-mlogloss:0.38822#011validation-mlogloss:0.46328\n",
      "[73]#011train-mlogloss:0.38573#011validation-mlogloss:0.46170\n",
      "[74]#011train-mlogloss:0.38301#011validation-mlogloss:0.45991\n",
      "[75]#011train-mlogloss:0.38166#011validation-mlogloss:0.45916\n",
      "[76]#011train-mlogloss:0.38027#011validation-mlogloss:0.45859\n",
      "[77]#011train-mlogloss:0.37883#011validation-mlogloss:0.45774\n",
      "[78]#011train-mlogloss:0.37784#011validation-mlogloss:0.45730\n",
      "[79]#011train-mlogloss:0.37726#011validation-mlogloss:0.45703\n",
      "[80]#011train-mlogloss:0.37604#011validation-mlogloss:0.45660\n",
      "[81]#011train-mlogloss:0.37452#011validation-mlogloss:0.45567\n",
      "[82]#011train-mlogloss:0.37300#011validation-mlogloss:0.45503\n",
      "[83]#011train-mlogloss:0.37143#011validation-mlogloss:0.45400\n",
      "[84]#011train-mlogloss:0.37093#011validation-mlogloss:0.45375\n",
      "[85]#011train-mlogloss:0.37001#011validation-mlogloss:0.45326\n",
      "[86]#011train-mlogloss:0.36789#011validation-mlogloss:0.45181\n",
      "[87]#011train-mlogloss:0.36697#011validation-mlogloss:0.45143\n",
      "[88]#011train-mlogloss:0.36533#011validation-mlogloss:0.45030\n",
      "[89]#011train-mlogloss:0.36293#011validation-mlogloss:0.44900\n",
      "[90]#011train-mlogloss:0.36117#011validation-mlogloss:0.44811\n",
      "[91]#011train-mlogloss:0.36018#011validation-mlogloss:0.44774\n",
      "[92]#011train-mlogloss:0.35802#011validation-mlogloss:0.44657\n",
      "[93]#011train-mlogloss:0.35467#011validation-mlogloss:0.44455\n",
      "[94]#011train-mlogloss:0.35281#011validation-mlogloss:0.44338\n",
      "[95]#011train-mlogloss:0.35104#011validation-mlogloss:0.44246\n",
      "[96]#011train-mlogloss:0.34929#011validation-mlogloss:0.44144\n",
      "[97]#011train-mlogloss:0.34821#011validation-mlogloss:0.44107\n",
      "[98]#011train-mlogloss:0.34627#011validation-mlogloss:0.44021\n",
      "[99]#011train-mlogloss:0.34511#011validation-mlogloss:0.44000\n",
      "[100]#011train-mlogloss:0.34318#011validation-mlogloss:0.43923\n",
      "[101]#011train-mlogloss:0.34216#011validation-mlogloss:0.43863\n",
      "[102]#011train-mlogloss:0.34066#011validation-mlogloss:0.43827\n",
      "[103]#011train-mlogloss:0.33961#011validation-mlogloss:0.43798\n",
      "[104]#011train-mlogloss:0.33821#011validation-mlogloss:0.43747\n",
      "[105]#011train-mlogloss:0.33658#011validation-mlogloss:0.43692\n",
      "[106]#011train-mlogloss:0.33472#011validation-mlogloss:0.43586\n",
      "[107]#011train-mlogloss:0.33324#011validation-mlogloss:0.43553\n",
      "[108]#011train-mlogloss:0.33246#011validation-mlogloss:0.43542\n",
      "[109]#011train-mlogloss:0.33139#011validation-mlogloss:0.43482\n",
      "[110]#011train-mlogloss:0.33045#011validation-mlogloss:0.43436\n",
      "[111]#011train-mlogloss:0.32919#011validation-mlogloss:0.43396\n",
      "[112]#011train-mlogloss:0.32840#011validation-mlogloss:0.43364\n",
      "[113]#011train-mlogloss:0.32803#011validation-mlogloss:0.43354\n",
      "[114]#011train-mlogloss:0.32710#011validation-mlogloss:0.43320\n",
      "[115]#011train-mlogloss:0.32569#011validation-mlogloss:0.43260\n",
      "[116]#011train-mlogloss:0.32490#011validation-mlogloss:0.43237\n",
      "[117]#011train-mlogloss:0.32356#011validation-mlogloss:0.43177\n",
      "[118]#011train-mlogloss:0.32254#011validation-mlogloss:0.43118\n",
      "[119]#011train-mlogloss:0.32168#011validation-mlogloss:0.43086\n",
      "[120]#011train-mlogloss:0.32077#011validation-mlogloss:0.43037\n",
      "[121]#011train-mlogloss:0.32012#011validation-mlogloss:0.43033\n",
      "[122]#011train-mlogloss:0.31928#011validation-mlogloss:0.43001\n",
      "[123]#011train-mlogloss:0.31838#011validation-mlogloss:0.42952\n",
      "[124]#011train-mlogloss:0.31709#011validation-mlogloss:0.42874\n",
      "[125]#011train-mlogloss:0.31590#011validation-mlogloss:0.42831\n",
      "[126]#011train-mlogloss:0.31444#011validation-mlogloss:0.42770\n",
      "[127]#011train-mlogloss:0.31392#011validation-mlogloss:0.42765\n",
      "[128]#011train-mlogloss:0.31340#011validation-mlogloss:0.42744\n",
      "[129]#011train-mlogloss:0.31184#011validation-mlogloss:0.42669\n",
      "[130]#011train-mlogloss:0.31087#011validation-mlogloss:0.42638\n",
      "[131]#011train-mlogloss:0.30971#011validation-mlogloss:0.42580\n",
      "[132]#011train-mlogloss:0.30906#011validation-mlogloss:0.42573\n",
      "[133]#011train-mlogloss:0.30787#011validation-mlogloss:0.42536\n",
      "[134]#011train-mlogloss:0.30675#011validation-mlogloss:0.42499\n",
      "[135]#011train-mlogloss:0.30530#011validation-mlogloss:0.42421\n",
      "[136]#011train-mlogloss:0.30412#011validation-mlogloss:0.42384\n",
      "[137]#011train-mlogloss:0.30335#011validation-mlogloss:0.42359\n",
      "[138]#011train-mlogloss:0.30261#011validation-mlogloss:0.42344\n",
      "[139]#011train-mlogloss:0.30156#011validation-mlogloss:0.42287\n",
      "[140]#011train-mlogloss:0.30085#011validation-mlogloss:0.42249\n",
      "[141]#011train-mlogloss:0.30058#011validation-mlogloss:0.42233\n",
      "[142]#011train-mlogloss:0.29997#011validation-mlogloss:0.42226\n",
      "[143]#011train-mlogloss:0.29931#011validation-mlogloss:0.42201\n",
      "[144]#011train-mlogloss:0.29862#011validation-mlogloss:0.42179\n",
      "[145]#011train-mlogloss:0.29762#011validation-mlogloss:0.42175\n",
      "[146]#011train-mlogloss:0.29639#011validation-mlogloss:0.42118\n",
      "[147]#011train-mlogloss:0.29590#011validation-mlogloss:0.42118\n",
      "[148]#011train-mlogloss:0.29505#011validation-mlogloss:0.42080\n",
      "[149]#011train-mlogloss:0.29410#011validation-mlogloss:0.42062\n",
      "[150]#011train-mlogloss:0.29314#011validation-mlogloss:0.42031\n",
      "[151]#011train-mlogloss:0.29218#011validation-mlogloss:0.42023\n",
      "[152]#011train-mlogloss:0.29097#011validation-mlogloss:0.41970\n",
      "[153]#011train-mlogloss:0.28979#011validation-mlogloss:0.41892\n",
      "[154]#011train-mlogloss:0.28918#011validation-mlogloss:0.41862\n",
      "[155]#011train-mlogloss:0.28861#011validation-mlogloss:0.41846\n",
      "[156]#011train-mlogloss:0.28769#011validation-mlogloss:0.41797\n",
      "[157]#011train-mlogloss:0.28677#011validation-mlogloss:0.41759\n",
      "[158]#011train-mlogloss:0.28614#011validation-mlogloss:0.41729\n",
      "[159]#011train-mlogloss:0.28564#011validation-mlogloss:0.41692\n",
      "[160]#011train-mlogloss:0.28524#011validation-mlogloss:0.41673\n",
      "[161]#011train-mlogloss:0.28430#011validation-mlogloss:0.41635\n",
      "[162]#011train-mlogloss:0.28365#011validation-mlogloss:0.41634\n",
      "[163]#011train-mlogloss:0.28293#011validation-mlogloss:0.41593\n",
      "[164]#011train-mlogloss:0.28241#011validation-mlogloss:0.41566\n",
      "[165]#011train-mlogloss:0.28149#011validation-mlogloss:0.41545\n",
      "[166]#011train-mlogloss:0.28090#011validation-mlogloss:0.41542\n",
      "[167]#011train-mlogloss:0.28001#011validation-mlogloss:0.41510\n",
      "[168]#011train-mlogloss:0.27911#011validation-mlogloss:0.41496\n",
      "[169]#011train-mlogloss:0.27867#011validation-mlogloss:0.41489\n",
      "[170]#011train-mlogloss:0.27825#011validation-mlogloss:0.41477\n",
      "[171]#011train-mlogloss:0.27716#011validation-mlogloss:0.41456\n",
      "[172]#011train-mlogloss:0.27609#011validation-mlogloss:0.41463\n",
      "[173]#011train-mlogloss:0.27523#011validation-mlogloss:0.41474\n",
      "[174]#011train-mlogloss:0.27423#011validation-mlogloss:0.41430\n",
      "[175]#011train-mlogloss:0.27353#011validation-mlogloss:0.41397\n",
      "[176]#011train-mlogloss:0.27316#011validation-mlogloss:0.41404\n",
      "[177]#011train-mlogloss:0.27255#011validation-mlogloss:0.41376\n",
      "[178]#011train-mlogloss:0.27179#011validation-mlogloss:0.41368\n",
      "[179]#011train-mlogloss:0.27108#011validation-mlogloss:0.41361\n",
      "[180]#011train-mlogloss:0.27005#011validation-mlogloss:0.41354\n",
      "[181]#011train-mlogloss:0.26861#011validation-mlogloss:0.41312\n",
      "[182]#011train-mlogloss:0.26773#011validation-mlogloss:0.41261\n",
      "[183]#011train-mlogloss:0.26708#011validation-mlogloss:0.41260\n",
      "[184]#011train-mlogloss:0.26642#011validation-mlogloss:0.41239\n",
      "[185]#011train-mlogloss:0.26565#011validation-mlogloss:0.41216\n",
      "[186]#011train-mlogloss:0.26535#011validation-mlogloss:0.41223\n",
      "[187]#011train-mlogloss:0.26477#011validation-mlogloss:0.41197\n",
      "[188]#011train-mlogloss:0.26431#011validation-mlogloss:0.41201\n",
      "[189]#011train-mlogloss:0.26335#011validation-mlogloss:0.41178\n",
      "[190]#011train-mlogloss:0.26219#011validation-mlogloss:0.41120\n",
      "[191]#011train-mlogloss:0.26148#011validation-mlogloss:0.41117\n",
      "[192]#011train-mlogloss:0.26089#011validation-mlogloss:0.41105\n",
      "[193]#011train-mlogloss:0.26031#011validation-mlogloss:0.41101\n",
      "[194]#011train-mlogloss:0.25995#011validation-mlogloss:0.41113\n",
      "[195]#011train-mlogloss:0.25935#011validation-mlogloss:0.41089\n",
      "[196]#011train-mlogloss:0.25865#011validation-mlogloss:0.41063\n",
      "[197]#011train-mlogloss:0.25798#011validation-mlogloss:0.41043\n",
      "[198]#011train-mlogloss:0.25697#011validation-mlogloss:0.41019\n",
      "[199]#011train-mlogloss:0.25649#011validation-mlogloss:0.41010\n",
      "\n",
      "2024-07-10 16:52:15 Uploading - Uploading generated training model\n",
      "2024-07-10 16:52:15 Completed - Training job completed\n",
      "Training seconds: 155\n",
      "Billable seconds: 74\n",
      "Managed Spot Training savings: 52.3%\n"
     ]
    }
   ],
   "source": [
    "output = xgboost.fit(inputs=data_channels)"
   ]
  }
 ],
 "metadata": {
  "kernelspec": {
   "display_name": ".venv",
   "language": "python",
   "name": "python3"
  },
  "language_info": {
   "codemirror_mode": {
    "name": "ipython",
    "version": 3
   },
   "file_extension": ".py",
   "mimetype": "text/x-python",
   "name": "python",
   "nbconvert_exporter": "python",
   "pygments_lexer": "ipython3",
   "version": "3.11.9"
  }
 },
 "nbformat": 4,
 "nbformat_minor": 2
}
