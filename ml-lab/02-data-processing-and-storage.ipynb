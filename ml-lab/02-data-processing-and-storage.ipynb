{
 "cells": [
  {
   "cell_type": "markdown",
   "metadata": {},
   "source": [
    "### Data Processing and Storage"
   ]
  },
  {
   "cell_type": "markdown",
   "metadata": {},
   "source": [
    "#### 01 - Import dataset from RDS"
   ]
  },
  {
   "cell_type": "code",
   "execution_count": 1,
   "metadata": {},
   "outputs": [
    {
     "name": "stdout",
     "output_type": "stream",
     "text": [
      "RDS Instance founded\n"
     ]
    }
   ],
   "source": [
    "import boto3\n",
    "import pandas as pd\n",
    "from rds import create_rds_engine, get_rds_instance\n",
    "from env import (\n",
    "    AWS_PROFILE_NAME,\n",
    "    RDS_DB_NAME,\n",
    "    RDS_INSTANCE_NAME,\n",
    "    RDS_PASSWORD,\n",
    "    RDS_USER,\n",
    "    DEFAULT_RDS_DB_TABLE,\n",
    ")\n",
    "\n",
    "profile_name = AWS_PROFILE_NAME\n",
    "master_username = RDS_USER\n",
    "master_password = RDS_PASSWORD\n",
    "db_name = RDS_DB_NAME\n",
    "db_instance_identifier = RDS_INSTANCE_NAME\n",
    "default_table = DEFAULT_RDS_DB_TABLE\n",
    "\n",
    "boto_session = boto3.Session(profile_name=profile_name)\n",
    "\n",
    "rds_client = boto_session.client(\"rds\")\n",
    "\n",
    "endpoint = get_rds_instance(rds_client, db_instance_identifier)\n",
    "\n",
    "engine = create_rds_engine(master_username, master_password, endpoint, db_name)\n",
    "\n",
    "query = f\"SELECT * FROM `{default_table}`\"\n",
    "\n",
    "df = pd.read_sql(query, con=engine)"
   ]
  },
  {
   "cell_type": "markdown",
   "metadata": {},
   "source": [
    "#### 02 - Add necessary column label_avg_price_per_room in dataset for data processing"
   ]
  },
  {
   "cell_type": "code",
   "execution_count": 2,
   "metadata": {},
   "outputs": [],
   "source": [
    "def generate_avg(avg_price_per_room: int):\n",
    "    if avg_price_per_room <= 85:\n",
    "        return 1\n",
    "    elif avg_price_per_room < 115:\n",
    "        return 2\n",
    "    else:\n",
    "        return 3\n",
    "\n",
    "\n",
    "df[\"label_avg_price_per_room\"] = df[\"avg_price_per_room\"].apply(generate_avg)"
   ]
  },
  {
   "cell_type": "markdown",
   "metadata": {},
   "source": [
    "#### 03 - Transformation of categorical variables with dummies"
   ]
  },
  {
   "cell_type": "code",
   "execution_count": 3,
   "metadata": {},
   "outputs": [],
   "source": [
    "df = pd.get_dummies(\n",
    "    data=df,\n",
    "    prefix=[\n",
    "        \"type_of_meal_plan\",\n",
    "        \"room_type_reserved\",\n",
    "        \"market_segment_type\",\n",
    "    ],\n",
    "    columns=[\n",
    "        \"type_of_meal_plan\",\n",
    "        \"room_type_reserved\",\n",
    "        \"market_segment_type\",\n",
    "    ],\n",
    ")"
   ]
  },
  {
   "cell_type": "markdown",
   "metadata": {},
   "source": [
    "#### 04 - Drop columns after analyses"
   ]
  },
  {
   "cell_type": "code",
   "execution_count": 4,
   "metadata": {},
   "outputs": [],
   "source": [
    "df.drop(\n",
    "    columns=[\n",
    "        \"avg_price_per_room\",\n",
    "        \"Booking_ID\",\n",
    "        \"booking_status\",\n",
    "        \"arrival_date\",\n",
    "        \"lead_time\",\n",
    "        \"no_of_weekend_nights\",\n",
    "        \"no_of_week_nights\",\n",
    "        \"required_car_parking_space\",\n",
    "        \"repeated_guest\",\n",
    "        \"no_of_previous_cancellations\",\n",
    "        \"no_of_previous_bookings_not_canceled\",\n",
    "        \"no_of_children\",\n",
    "    ],\n",
    "    inplace=True,\n",
    ")"
   ]
  },
  {
   "cell_type": "markdown",
   "metadata": {},
   "source": [
    "#### 05 - Convert categorical variables with dummies in numeric variables   "
   ]
  },
  {
   "cell_type": "code",
   "execution_count": 5,
   "metadata": {},
   "outputs": [],
   "source": [
    "df = df * 1"
   ]
  },
  {
   "cell_type": "markdown",
   "metadata": {},
   "source": [
    "#### 06 - Create and insert processed dataset in a new table in RDS"
   ]
  },
  {
   "cell_type": "code",
   "execution_count": 6,
   "metadata": {},
   "outputs": [
    {
     "data": {
      "text/plain": [
       "36275"
      ]
     },
     "execution_count": 6,
     "metadata": {},
     "output_type": "execute_result"
    }
   ],
   "source": [
    "df.to_sql(f\"{default_table}-processed\", con=engine, if_exists=\"append\", index=False)"
   ]
  }
 ],
 "metadata": {
  "kernelspec": {
   "display_name": ".venv",
   "language": "python",
   "name": "python3"
  },
  "language_info": {
   "codemirror_mode": {
    "name": "ipython",
    "version": 3
   },
   "file_extension": ".py",
   "mimetype": "text/x-python",
   "name": "python",
   "nbconvert_exporter": "python",
   "pygments_lexer": "ipython3",
   "version": "3.11.9"
  }
 },
 "nbformat": 4,
 "nbformat_minor": 2
}
